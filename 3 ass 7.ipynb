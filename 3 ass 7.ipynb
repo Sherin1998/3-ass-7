{
 "cells": [
  {
   "cell_type": "code",
   "execution_count": 59,
   "metadata": {},
   "outputs": [
    {
     "name": "stdout",
     "output_type": "stream",
     "text": [
      "[[ 22  45  68  91 103]\n",
      " [ 15  99  68  79 143]]\n"
     ]
    }
   ],
   "source": [
    "#1\n",
    "import numpy as np\n",
    "X=np.array([[1,2,3,4,5],[3,76,23,12,65]])\n",
    "Y=np.array([[21,43,65,87,98],[12,23,45,67,78]])\n",
    "print(X+Y)"
   ]
  },
  {
   "cell_type": "code",
   "execution_count": 65,
   "metadata": {},
   "outputs": [
    {
     "name": "stdout",
     "output_type": "stream",
     "text": [
      "76\n",
      "55.900000000000006\n"
     ]
    }
   ],
   "source": [
    "#2\n",
    "X=np.array([[1,2,3,4,5],[3,76,23,12,65]])\n",
    "print(X.max())\n",
    "Y=np.arange(1,56,0.3)\n",
    "print(Y.max())"
   ]
  },
  {
   "cell_type": "code",
   "execution_count": 11,
   "metadata": {},
   "outputs": [
    {
     "name": "stdout",
     "output_type": "stream",
     "text": [
      "Enter the position to shift   :4\n",
      "[6, 8, 1, 2, 3, 4]\n"
     ]
    }
   ],
   "source": [
    "#3\n",
    "def rotate(l,x):\n",
    "    b=l[:x]\n",
    "    return l[x::]+b\n",
    "\n",
    "\n",
    "l=[1,2,3,4,6,8]\n",
    "x=int(input('Enter the position to shift   :'))\n",
    "arr=rotate(l,x)\n",
    "print(arr)"
   ]
  },
  {
   "cell_type": "code",
   "execution_count": 9,
   "metadata": {},
   "outputs": [
    {
     "name": "stdout",
     "output_type": "stream",
     "text": [
      "[3, 4, 5, 6, 1, 2]\n"
     ]
    }
   ],
   "source": [
    "#4\n",
    "def rotateList(arr,d,n):\n",
    "    arr[:]=arr[d:n]+arr[0:d]\n",
    "    return arr\n",
    "\n",
    "arr = [1, 2, 3, 4, 5, 6]\n",
    "print(rotateList(arr,2,len(arr))) \n",
    "\n"
   ]
  },
  {
   "cell_type": "code",
   "execution_count": 47,
   "metadata": {},
   "outputs": [
    {
     "name": "stdout",
     "output_type": "stream",
     "text": [
      "Monotonic\n"
     ]
    }
   ],
   "source": [
    "#5\n",
    "def monot(a):\n",
    "        for i in range(len(a)-1):\n",
    "                flag=False\n",
    "                if(a[i]>=a[i+1] and flag==True or a[i]<=a[i+1] and flag==False):\n",
    "                    flag=True\n",
    "                else:\n",
    "                    flag=False\n",
    "        return flag\n",
    "                     \n",
    "    \n",
    "a=[34,65,6,5,4,4]\n",
    "u=monot(a)\n",
    "if(u==True):\n",
    "    print('Monotonic')\n",
    "else:\n",
    "    print('Not monotonic')\n",
    "\n",
    "#[7,3,2,7,43,89,12,90]"
   ]
  },
  {
   "cell_type": "code",
   "execution_count": 52,
   "metadata": {},
   "outputs": [
    {
     "name": "stdout",
     "output_type": "stream",
     "text": [
      "False\n"
     ]
    }
   ],
   "source": [
    "# Write a Python Program to check if given array is Monotonic?\n",
    "\n",
    "def monot(a):\n",
    "    flag=True\n",
    "    for i in range(len(a)):\n",
    "        if(a[i]>=a[i+1] and flag or a[i]<=a[i+1] and not flag):\n",
    "            return True\n",
    "        else:\n",
    "            return False\n",
    "            break\n",
    "        \n",
    "\n",
    "\n",
    "a=[1,2,3,4,5,6]\n",
    "u=monot(a)\n",
    "print(u)\n"
   ]
  },
  {
   "cell_type": "code",
   "execution_count": null,
   "metadata": {},
   "outputs": [],
   "source": []
  }
 ],
 "metadata": {
  "kernelspec": {
   "display_name": "Python 3",
   "language": "python",
   "name": "python3"
  },
  "language_info": {
   "codemirror_mode": {
    "name": "ipython",
    "version": 3
   },
   "file_extension": ".py",
   "mimetype": "text/x-python",
   "name": "python",
   "nbconvert_exporter": "python",
   "pygments_lexer": "ipython3",
   "version": "3.8.3"
  }
 },
 "nbformat": 4,
 "nbformat_minor": 4
}
